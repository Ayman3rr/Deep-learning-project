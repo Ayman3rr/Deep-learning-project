{
  "nbformat": 4,
  "nbformat_minor": 0,
  "metadata": {
    "colab": {
      "provenance": [],
      "gpuType": "T4"
    },
    "kernelspec": {
      "name": "python3",
      "display_name": "Python 3"
    },
    "language_info": {
      "name": "python"
    },
    "accelerator": "GPU"
  },
  "cells": [
    {
      "cell_type": "code",
      "execution_count": 16,
      "metadata": {
        "id": "PFjwdLksFd94"
      },
      "outputs": [],
      "source": [
        "import numpy as np\n",
        "import pandas as pd\n",
        "import matplotlib.pyplot as plt\n",
        "%matplotlib inline"
      ]
    },
    {
      "cell_type": "code",
      "source": [
        "import tensorflow as tf\n",
        "from tensorflow import keras\n",
        "from keras.models import Sequential,Model"
      ],
      "metadata": {
        "id": "ZLM2eQMEKlt6"
      },
      "execution_count": 2,
      "outputs": []
    },
    {
      "cell_type": "code",
      "source": [
        "from tensorflow.keras.layers import Input,Conv2D,Dense,Flatten,Dropout\n",
        "from tensorflow.keras.layers import GlobalMaxPooling2D,MaxPooling2D\n",
        "from tensorflow.keras import regularizers,optimizers\n",
        "from tensorflow.keras.utils import to_categorical\n",
        "from sklearn .metrics import accuracy_score"
      ],
      "metadata": {
        "id": "tVomL8i-LGOa"
      },
      "execution_count": 3,
      "outputs": []
    },
    {
      "cell_type": "markdown",
      "source": [
        "تبدو أنك تقوم بتحميل مكتبات Keras و TensorFlow لبناء نموذج تعلم آلي لمعالجة الصور. الكود الذي قمت بتوفيره يقوم بتحميل المكتبات وتعريف نموذج الشبكة العصبية.\n",
        "\n",
        "هنا توضيح لكل خطوة في الكود:\n",
        "\n",
        "1. استيراد المكتبات:\n",
        "   ```python\n",
        "   import keras\n",
        "   import tensorflow as tf\n",
        "   from tensorflow import keras\n",
        "   ```\n",
        "   تقوم هذه الخطوط بتحميل المكتبات الضرورية لاستخدام TensorFlow و Keras.\n",
        "\n",
        "2. تعريف نموذج Sequential:\n",
        "   ```python\n",
        "   from keras.models import Sequential\n",
        "   model = Sequential()\n",
        "   ```\n",
        "   تقوم هذه الخطوط بتعريف نموذج Sequential، الذي يمثل نموذجًا تسلسليًا للطبقات في الشبكة العصبية.\n",
        "\n",
        "3. استيراد الطبقات والمكونات اللازمة:\n",
        "   ```python\n",
        "   from tensorflow.keras.layers import Input, Conv2D, Dense, Flatten, Dropout\n",
        "   from tensorflow.keras.layers import GlobalMaxPooling2D, MaxPooling2D\n",
        "   from tensorflow.keras.layers import BatchNormalization\n",
        "   ```\n",
        "   يتم استيراد الطبقات والمكونات اللازمة لبناء الشبكة العصبية، مثل Conv2D للتصفية المكانية، و Dense للطبقة الكاملة المتصلة، و BatchNormalization لتحسين تدريب الشبكة، وغيرها.\n",
        "\n",
        "4. تعريف نموذج الشبكة العصبية:\n",
        "   ```python\n",
        "   from tensorflow.keras.models import Model\n",
        "   from tensorflow.keras import regularizers, optimizers\n",
        "   ```\n",
        "   تعريف نموذج الشبكة العصبية واستيراد التقنيات المختلفة المستخدمة في النموذج، مثل الانحدار والمحسنين.\n",
        "\n",
        "5. تحويل العلامات إلى تنسيق فئوي:\n",
        "   ```python\n",
        "   from tensorflow.keras.utils import to_categorical\n",
        "   ```\n",
        "   يقوم هذا السطر بتحويل العلامات (labels) إلى تنسيق فئوي.\n",
        "\n",
        "هذه الخطوات هي الخطوات الأساسية لبناء نموذج تعلم آلي باستخدام TensorFlow و Keras. إذا كنت تحتاج إلى مزيد من المساعدة في بناء النموذج أو استخدامه، فلا تتردد في طرح الأسئلة!"
      ],
      "metadata": {
        "id": "3mOn4nLvTtl7"
      }
    },
    {
      "cell_type": "code",
      "source": [
        "#Data\n",
        "from tensorflow.keras.datasets import cifar100"
      ],
      "metadata": {
        "id": "WJucTtMnM3Kb"
      },
      "execution_count": 4,
      "outputs": []
    },
    {
      "cell_type": "code",
      "source": [
        "(X_train, y_train), (X_test, y_test) = cifar100.load_data()"
      ],
      "metadata": {
        "colab": {
          "base_uri": "https://localhost:8080/"
        },
        "id": "Ek4DiWj1NS8B",
        "outputId": "35d00faf-c529-4650-cf44-e10228c52ddb"
      },
      "execution_count": 5,
      "outputs": [
        {
          "output_type": "stream",
          "name": "stdout",
          "text": [
            "Downloading data from https://www.cs.toronto.edu/~kriz/cifar-100-python.tar.gz\n",
            "169001437/169001437 [==============================] - 4s 0us/step\n"
          ]
        }
      ]
    },
    {
      "cell_type": "code",
      "source": [
        "plt.imshow(X_train[4])"
      ],
      "metadata": {
        "colab": {
          "base_uri": "https://localhost:8080/",
          "height": 448
        },
        "id": "h_bo-VBcNYKd",
        "outputId": "eec41c91-a76e-477c-9fb7-cbf2d4ea3c7e"
      },
      "execution_count": 6,
      "outputs": [
        {
          "output_type": "execute_result",
          "data": {
            "text/plain": [
              "<matplotlib.image.AxesImage at 0x792a86f9d0f0>"
            ]
          },
          "metadata": {},
          "execution_count": 6
        },
        {
          "output_type": "display_data",
          "data": {
            "text/plain": [
              "<Figure size 640x480 with 1 Axes>"
            ],
            "image/png": "[encoded data removed]"
          },
          "metadata": {}
        }
      ]
    },
    {
      "cell_type": "code",
      "source": [
        "X_train=X_train/255\n",
        "X_test=X_test/255"
      ],
      "metadata": {
        "id": "7GJxMQGFUX8K"
      },
      "execution_count": 7,
      "outputs": []
    },
    {
      "cell_type": "markdown",
      "source": [
        "`يبدو أنك قمت بتقسيم قيم بيانات الصور في مجموعة التدريب `\n",
        "\n",
        "(X_train) ومجموعة الاختبار (X_test) على 255. هذا الإجراء يستخدم لتقليل قيم البكسل إلى نطاق بين 0 و 1. قد تكون هذه الخطوة ضرورية كجزء من تحضير البيانات لتدريب النموذج الخاص بك.\n",
        "\n",
        "عملية تقسيم القيم عادة ما تستخدم لتسهيل عملية التدريب للنموذج. على العموم، يتم استخدام هذا التقسيم بشكل شائع في تعلم الآلة لأنه يعمل على توحيد البيانات ويمكن أن يساعد في تحسين أداء النموذج.\n",
        "\n",
        "هناك طرق أخرى لتحضير البيانات، وتعتمد على النموذج والمشكلة التي تعمل عليها. على سبيل المثال، في بعض الحالات، يمكن أن يكون من الأفضل تطبيع البيانات بشكل أكبر أو استخدام تقنيات معالجة الصور الأخرى.\n",
        "\n",
        "إذا كان لديك أي أسئلة إضافية حول هذه الخطوة أو حول كيفية استخدام بيانات الصور في تدريب النماذج، فلا تتردد في طرحها!"
      ],
      "metadata": {
        "id": "PeOXdfghVBXe"
      }
    },
    {
      "cell_type": "code",
      "source": [
        "import numpy as np\n",
        "\n",
        "# قائمة بالعلامات الفريدة في مجموعة بيانات التدريب\n",
        "unique_labels_train = np.unique(y_train)\n",
        "print(\"Unique labels in training set:\", unique_labels_train)\n",
        "\n",
        "# قائمة بالعلامات الفريدة في مجموعة بيانات الاختبار\n",
        "unique_labels_test = np.unique(y_test)\n",
        "print(\"Unique labels in test set:\", unique_labels_test)"
      ],
      "metadata": {
        "colab": {
          "base_uri": "https://localhost:8080/"
        },
        "id": "zRTqXBR7WPWw",
        "outputId": "84352aae-20b7-469a-9cd3-a8adda27c9f1"
      },
      "execution_count": 8,
      "outputs": [
        {
          "output_type": "stream",
          "name": "stdout",
          "text": [
            "Unique labels in training set: [ 0  1  2  3  4  5  6  7  8  9 10 11 12 13 14 15 16 17 18 19 20 21 22 23\n",
            " 24 25 26 27 28 29 30 31 32 33 34 35 36 37 38 39 40 41 42 43 44 45 46 47\n",
            " 48 49 50 51 52 53 54 55 56 57 58 59 60 61 62 63 64 65 66 67 68 69 70 71\n",
            " 72 73 74 75 76 77 78 79 80 81 82 83 84 85 86 87 88 89 90 91 92 93 94 95\n",
            " 96 97 98 99]\n",
            "Unique labels in test set: [ 0  1  2  3  4  5  6  7  8  9 10 11 12 13 14 15 16 17 18 19 20 21 22 23\n",
            " 24 25 26 27 28 29 30 31 32 33 34 35 36 37 38 39 40 41 42 43 44 45 46 47\n",
            " 48 49 50 51 52 53 54 55 56 57 58 59 60 61 62 63 64 65 66 67 68 69 70 71\n",
            " 72 73 74 75 76 77 78 79 80 81 82 83 84 85 86 87 88 89 90 91 92 93 94 95\n",
            " 96 97 98 99]\n"
          ]
        }
      ]
    },
    {
      "cell_type": "markdown",
      "source": [
        "\n",
        "\n",
        "```\n",
        "## علشان اعرف label صح ##\n",
        "```\n",
        "\n"
      ],
      "metadata": {
        "id": "xsty5I2ZWtMH"
      }
    },
    {
      "cell_type": "code",
      "source": [
        "y_train_en=to_categorical(y_train,100)\n",
        "y_test_en=to_categorical(y_test,100)"
      ],
      "metadata": {
        "id": "tNoAT1lgUri4"
      },
      "execution_count": 9,
      "outputs": []
    },
    {
      "cell_type": "markdown",
      "source": [
        "يبدو أنك تقوم بتحويل العلامات\n",
        "(labels) إلى تنسيق فئوي باستخدام وظيفة `to_categorical` من TensorFlow. هذه الخطوة شائعة في تعلم الآلة عند العمل مع المشكلات التي تتضمن تصنيف أو تصنيف متعدد الفئات.\n",
        "\n",
        "في هذه الحالة، يتم تحويل العلامات التصنيفية إلى صيغة فئوية حيث يكون لكل فئة فهرس (index) يمثل موضعها، ويتم تعيين القيمة 1 للفهرس المقابل للفئة والقيم 0 لبقية الفهارس. على سبيل المثال، إذا كانت هناك 3 فئات، فقد يكون شكل العلامات بعد التحويل كالتالي:\n",
        "\n",
        "- 0: [1, 0, 0]\n",
        "- 1: [0, 1, 0]\n",
        "- 2: [0, 0, 1]\n",
        "\n",
        "وهذا يعني أن الصفر يمثل الفئة الأولى، والواحد يمثل الفئة الثانية، وهكذا.\n",
        "\n",
        "الوسم \"10\" في الوظيفة `to_categorical` يعني أن هناك 10 فئات ممكنة. هذا متطابق مع عدد الفئات في مجموعة بيانات CIFAR-10 التي تحتوي على 10 فئات مختلفة.\n",
        "\n",
        "هذا التحويل يسهل عملية تدريب النموذج وتقييم أدائه على مجموعة الاختبار، ويجعل من السهل فهم نتائج التصنيف لأنها تكون في صيغة فئوية.\n",
        "\n",
        "إذا كان لديك أي أسئلة أخرى، فلا تتردد في طرحها!"
      ],
      "metadata": {
        "id": "quoZvQvbVaIJ"
      }
    },
    {
      "cell_type": "code",
      "source": [
        "X_train[0]"
      ],
      "metadata": {
        "colab": {
          "base_uri": "https://localhost:8080/"
        },
        "id": "X4AbOWPfW-B4",
        "outputId": "2a81b8d4-ce9f-46cc-9cf3-60b2cd734c01"
      },
      "execution_count": 10,
      "outputs": [
        {
          "output_type": "execute_result",
          "data": {
            "text/plain": [
              "array([[[1.        , 1.        , 1.        ],\n",
              "        [1.        , 1.        , 1.        ],\n",
              "        [1.        , 1.        , 1.        ],\n",
              "        ...,\n",
              "        [0.76470588, 0.80392157, 0.75686275],\n",
              "        [0.83137255, 0.87843137, 0.8       ],\n",
              "        [0.71372549, 0.76078431, 0.65490196]],\n",
              "\n",
              "       [[1.        , 1.        , 1.        ],\n",
              "        [0.99607843, 0.99607843, 0.99607843],\n",
              "        [0.99607843, 0.99607843, 0.99607843],\n",
              "        ...,\n",
              "        [0.66666667, 0.69019608, 0.58823529],\n",
              "        [0.63137255, 0.65882353, 0.50980392],\n",
              "        [0.57254902, 0.60392157, 0.44313725]],\n",
              "\n",
              "       [[1.        , 1.        , 1.        ],\n",
              "        [0.99607843, 0.99607843, 0.99607843],\n",
              "        [1.        , 1.        , 1.        ],\n",
              "        ...,\n",
              "        [0.74117647, 0.78039216, 0.6627451 ],\n",
              "        [0.65098039, 0.69803922, 0.50980392],\n",
              "        [0.4745098 , 0.52156863, 0.34117647]],\n",
              "\n",
              "       ...,\n",
              "\n",
              "       [[0.58039216, 0.7254902 , 0.30980392],\n",
              "        [0.55686275, 0.71372549, 0.22352941],\n",
              "        [0.54901961, 0.70196078, 0.23529412],\n",
              "        ...,\n",
              "        [0.11764706, 0.06666667, 0.00392157],\n",
              "        [0.25490196, 0.24313725, 0.05882353],\n",
              "        [0.29803922, 0.30196078, 0.07843137]],\n",
              "\n",
              "       [[0.47843137, 0.61568627, 0.25882353],\n",
              "        [0.47058824, 0.60784314, 0.22745098],\n",
              "        [0.49411765, 0.62745098, 0.27843137],\n",
              "        ...,\n",
              "        [0.08627451, 0.0627451 , 0.01176471],\n",
              "        [0.38039216, 0.43921569, 0.21960784],\n",
              "        [0.55294118, 0.63137255, 0.34117647]],\n",
              "\n",
              "       [[0.34117647, 0.47843137, 0.16078431],\n",
              "        [0.34509804, 0.47843137, 0.15294118],\n",
              "        [0.39607843, 0.5254902 , 0.21960784],\n",
              "        ...,\n",
              "        [0.13333333, 0.14117647, 0.03921569],\n",
              "        [0.41176471, 0.52156863, 0.23137255],\n",
              "        [0.54117647, 0.67843137, 0.30980392]]])"
            ]
          },
          "metadata": {},
          "execution_count": 10
        }
      ]
    },
    {
      "cell_type": "code",
      "source": [
        "y_train_en"
      ],
      "metadata": {
        "colab": {
          "base_uri": "https://localhost:8080/"
        },
        "id": "sd5A07BEXDys",
        "outputId": "3fd84049-a972-44f6-8654-65e1d56f5702"
      },
      "execution_count": 11,
      "outputs": [
        {
          "output_type": "execute_result",
          "data": {
            "text/plain": [
              "array([[0., 0., 0., ..., 0., 0., 0.],\n",
              "       [0., 0., 0., ..., 0., 0., 0.],\n",
              "       [1., 0., 0., ..., 0., 0., 0.],\n",
              "       ...,\n",
              "       [0., 0., 0., ..., 0., 0., 0.],\n",
              "       [0., 0., 0., ..., 0., 0., 0.],\n",
              "       [0., 0., 0., ..., 0., 0., 0.]], dtype=float32)"
            ]
          },
          "metadata": {},
          "execution_count": 11
        }
      ]
    },
    {
      "cell_type": "code",
      "source": [
        "model=Sequential()\n",
        "model.add(Conv2D(32,(4,4),input_shape=(32,32,3),activation=\"relu\")),\n",
        "model.add(MaxPooling2D(pool_size=((2,2)))),\n",
        "model.add(Conv2D(32,(4,4),input_shape=(32,32,3),activation=\"relu\")),\n",
        "model.add(MaxPooling2D(pool_size=((2,2)))),\n",
        "model.add(Flatten()),\n",
        "model.add(Dense(128,activation=\"relu\")),\n",
        "model.add(Dense(100,activation=\"softmax\"))"
      ],
      "metadata": {
        "id": "deYnI71VXHR_"
      },
      "execution_count": 12,
      "outputs": []
    },
    {
      "cell_type": "markdown",
      "source": [
        "بالطبع، سأشرح كل سطر في الكود:\n",
        "\n",
        "1. `model=Sequential()`: هذا السطر يقوم بإنشاء نموذج جديد باستخدام النمط السلسلي Sequential. يعني هذا أننا سنضيف الطبقات تلو الأخرى في تسلسل خطي.\n",
        "\n",
        "2. `model.add(Conv2D(32,(4,4),input_shape=(32,32,3),activation=\"relu\"))`: هذا السطر يضيف طبقة تصفية ثنائية الأبعاد Conv2D إلى النموذج. تتلقى هذه الطبقة 32 فلترًا بحجم 4x4، وتتوقع إدخال البيانات بشكل صور بأبعاد 32x32x3 (32 عرض، 32 ارتفاع، 3 قنوات لونية RGB). وظيفة التنشيط المستخدمة هي ReLU.\n",
        "\n",
        "3. `model.add(MaxPooling2D(pool_size=((2,2))))`: هذا السطر يضيف طبقة تقليل البيانات MaxPooling2D إلى النموذج. يقوم هذا النوع من الطبقات بتقليل حجم البيانات عن طريق اختيار القيمة القصوى في كل منطقة محددة.\n",
        "\n",
        "4. `model.add(Conv2D(32,(4,4),input_shape=(32,32,3),activation=\"relu\"))`: هذا السطر يضيف طبقة Conv2D الثانية إلى النموذج، وهي نفس الطريقة المستخدمة في السطر الثاني.\n",
        "\n",
        "5. `model.add(MaxPooling2D(pool_size=((2,2))))`: هذا السطر يضيف طبقة تقليل البيانات الثانية إلى النموذج، وهي نفس الطريقة المستخدمة في السطر الثالث.\n",
        "\n",
        "6. `model.add(Flatten())`: هذا السطر يضيف طبقة التسطيح Flatten إلى النموذج. تقوم هذه الطبقة بتحويل البيانات من تنسيق ثلاثي الأبعاد إلى تنسيق مسطح (أحادي الأبعاد)، وهو مطلوب قبل إضافة الطبقات الكاملة المتصلة.\n",
        "\n",
        "7. `model.add(Dense(128,activation=\"relu\"))`: هذا السطر يضيف طبقة كاملة متصلة Dense إلى النموذج، وتحتوي على 128 وحدة. وظيفة التنشيط المستخدمة هي ReLU.\n",
        "\n",
        "8. `model.add(Dense(100,activation=\"softmax\"))`: هذا السطر يضيف طبقة كاملة متصلة أخرى إلى النموذج، وتحتوي على 100 وحدة (بالتنسيق مع عدد الفئات في بيانات CIFAR-100). وظيفة التنشيط المستخدمة هي Softmax، وهي مفيدة للتصنيف متعدد الفئات حيث تقوم بإخراج توزيع احتمالات لكل فئة محتملة.\n",
        "\n",
        "هذه الطبقات تشكل نموذجًا أساسيًا للتصنيف الصوري، حيث يتم استخدام الطبقات التصفية (Conv2D) لاستخراج الميزات، وطبقات تقليل البيانات (MaxPooling2D) لتقليل حجم البيانات، ثم طبقات كاملة متصلة (Dense) لإجراء التصنيف الفعلي."
      ],
      "metadata": {
        "id": "4G1xv83hZ-Pl"
      }
    },
    {
      "cell_type": "code",
      "source": [
        "model.summary()"
      ],
      "metadata": {
        "colab": {
          "base_uri": "https://localhost:8080/"
        },
        "id": "j6Oeulr3ZmaH",
        "outputId": "a545c2b6-9e68-49cc-9da9-b6e3a719efed"
      },
      "execution_count": 13,
      "outputs": [
        {
          "output_type": "stream",
          "name": "stdout",
          "text": [
            "Model: \"sequential\"\n",
            "_________________________________________________________________\n",
            " Layer (type)                Output Shape              Param #   \n",
            "=================================================================\n",
            " conv2d (Conv2D)             (None, 29, 29, 32)        1568      \n",
            "                                                                 \n",
            " max_pooling2d (MaxPooling2  (None, 14, 14, 32)        0         \n",
            " D)                                                              \n",
            "                                                                 \n",
            " conv2d_1 (Conv2D)           (None, 11, 11, 32)        16416     \n",
            "                                                                 \n",
            " max_pooling2d_1 (MaxPoolin  (None, 5, 5, 32)          0         \n",
            " g2D)                                                            \n",
            "                                                                 \n",
            " flatten (Flatten)           (None, 800)               0         \n",
            "                                                                 \n",
            " dense (Dense)               (None, 128)               102528    \n",
            "                                                                 \n",
            " dense_1 (Dense)             (None, 100)               12900     \n",
            "                                                                 \n",
            "=================================================================\n",
            "Total params: 133412 (521.14 KB)\n",
            "Trainable params: 133412 (521.14 KB)\n",
            "Non-trainable params: 0 (0.00 Byte)\n",
            "_________________________________________________________________\n"
          ]
        }
      ]
    },
    {
      "cell_type": "code",
      "source": [
        "model.compile(optimizer=keras.optimizers.Adam(), loss=keras.losses.CategoricalCrossentropy(), metrics=['accuracy'])"
      ],
      "metadata": {
        "id": "ETTG4aANaUn8"
      },
      "execution_count": 14,
      "outputs": []
    },
    {
      "cell_type": "code",
      "source": [
        "model.fit(X_train,y_train_en,epochs=100,verbose=1,validation_batch_size=(X_test,y_test_en))"
      ],
      "metadata": {
        "colab": {
          "base_uri": "https://localhost:8080/"
        },
        "id": "gplLeDD_axZF",
        "outputId": "7ced23e5-5224-4c48-819d-bacf58514105"
      },
      "execution_count": 17,
      "outputs": [
        {
          "output_type": "stream",
          "name": "stdout",
          "text": [
            "Epoch 1/100\n",
            "1563/1563 [==============================] - 6s 4ms/step - loss: 0.6034 - accuracy: 0.8160\n",
            "Epoch 2/100\n",
            "1563/1563 [==============================] - 7s 4ms/step - loss: 0.5861 - accuracy: 0.8199\n",
            "Epoch 3/100\n",
            "1563/1563 [==============================] - 6s 4ms/step - loss: 0.6001 - accuracy: 0.8162\n",
            "Epoch 4/100\n",
            "1563/1563 [==============================] - 7s 4ms/step - loss: 0.5971 - accuracy: 0.8179\n",
            "Epoch 5/100\n",
            "1563/1563 [==============================] - 6s 4ms/step - loss: 0.5912 - accuracy: 0.8190\n",
            "Epoch 6/100\n",
            "1563/1563 [==============================] - 6s 4ms/step - loss: 0.5882 - accuracy: 0.8214\n",
            "Epoch 7/100\n",
            "1563/1563 [==============================] - 6s 4ms/step - loss: 0.6181 - accuracy: 0.8130\n",
            "Epoch 8/100\n",
            "1563/1563 [==============================] - 6s 4ms/step - loss: 0.5936 - accuracy: 0.8207\n",
            "Epoch 9/100\n",
            "1563/1563 [==============================] - 6s 4ms/step - loss: 0.6055 - accuracy: 0.8158\n",
            "Epoch 10/100\n",
            "1563/1563 [==============================] - 6s 4ms/step - loss: 0.5883 - accuracy: 0.8192\n",
            "Epoch 11/100\n",
            "1563/1563 [==============================] - 6s 4ms/step - loss: 0.6126 - accuracy: 0.8128\n",
            "Epoch 12/100\n",
            "1563/1563 [==============================] - 7s 4ms/step - loss: 0.5680 - accuracy: 0.8271\n",
            "Epoch 13/100\n",
            "1563/1563 [==============================] - 6s 4ms/step - loss: 0.6107 - accuracy: 0.8152\n",
            "Epoch 14/100\n",
            "1563/1563 [==============================] - 6s 4ms/step - loss: 0.5976 - accuracy: 0.8193\n",
            "Epoch 15/100\n",
            "1563/1563 [==============================] - 6s 4ms/step - loss: 0.5726 - accuracy: 0.8237\n",
            "Epoch 16/100\n",
            "1563/1563 [==============================] - 6s 4ms/step - loss: 0.6059 - accuracy: 0.8183\n",
            "Epoch 17/100\n",
            "1563/1563 [==============================] - 7s 4ms/step - loss: 0.5816 - accuracy: 0.8219\n",
            "Epoch 18/100\n",
            "1563/1563 [==============================] - 6s 4ms/step - loss: 0.5892 - accuracy: 0.8229\n",
            "Epoch 19/100\n",
            "1563/1563 [==============================] - 7s 4ms/step - loss: 0.5822 - accuracy: 0.8252\n",
            "Epoch 20/100\n",
            "1563/1563 [==============================] - 6s 4ms/step - loss: 0.5834 - accuracy: 0.8226\n",
            "Epoch 21/100\n",
            "1563/1563 [==============================] - 6s 4ms/step - loss: 0.5838 - accuracy: 0.8209\n",
            "Epoch 22/100\n",
            "1563/1563 [==============================] - 6s 4ms/step - loss: 0.5956 - accuracy: 0.8200\n",
            "Epoch 23/100\n",
            "1563/1563 [==============================] - 6s 4ms/step - loss: 0.5981 - accuracy: 0.8206\n",
            "Epoch 24/100\n",
            "1563/1563 [==============================] - 6s 4ms/step - loss: 0.5798 - accuracy: 0.8235\n",
            "Epoch 25/100\n",
            "1563/1563 [==============================] - 7s 4ms/step - loss: 0.5978 - accuracy: 0.8204\n",
            "Epoch 26/100\n",
            "1563/1563 [==============================] - 6s 4ms/step - loss: 0.5670 - accuracy: 0.8275\n",
            "Epoch 27/100\n",
            "1563/1563 [==============================] - 10s 7ms/step - loss: 0.5861 - accuracy: 0.8224\n",
            "Epoch 28/100\n",
            "1563/1563 [==============================] - 11s 7ms/step - loss: 0.5863 - accuracy: 0.8220\n",
            "Epoch 29/100\n",
            "1563/1563 [==============================] - 11s 7ms/step - loss: 0.5889 - accuracy: 0.8242\n",
            "Epoch 30/100\n",
            "1563/1563 [==============================] - 12s 8ms/step - loss: 0.5926 - accuracy: 0.8203\n",
            "Epoch 31/100\n",
            "1563/1563 [==============================] - 7s 5ms/step - loss: 0.5825 - accuracy: 0.8247\n",
            "Epoch 32/100\n",
            "1563/1563 [==============================] - 6s 4ms/step - loss: 0.5912 - accuracy: 0.8234\n",
            "Epoch 33/100\n",
            "1563/1563 [==============================] - 7s 4ms/step - loss: 0.5869 - accuracy: 0.8222\n",
            "Epoch 34/100\n",
            "1563/1563 [==============================] - 6s 4ms/step - loss: 0.5828 - accuracy: 0.8239\n",
            "Epoch 35/100\n",
            "1563/1563 [==============================] - 10s 6ms/step - loss: 0.5815 - accuracy: 0.8231\n",
            "Epoch 36/100\n",
            "1563/1563 [==============================] - 8s 5ms/step - loss: 0.5640 - accuracy: 0.8270\n",
            "Epoch 37/100\n",
            "1563/1563 [==============================] - 11s 7ms/step - loss: 0.5768 - accuracy: 0.8248\n",
            "Epoch 38/100\n",
            "1563/1563 [==============================] - 7s 4ms/step - loss: 0.5571 - accuracy: 0.8317\n",
            "Epoch 39/100\n",
            "1563/1563 [==============================] - 6s 4ms/step - loss: 0.6046 - accuracy: 0.8204\n",
            "Epoch 40/100\n",
            "1563/1563 [==============================] - 6s 4ms/step - loss: 0.5757 - accuracy: 0.8275\n",
            "Epoch 41/100\n",
            "1563/1563 [==============================] - 7s 4ms/step - loss: 0.5634 - accuracy: 0.8294\n",
            "Epoch 42/100\n",
            "1563/1563 [==============================] - 6s 4ms/step - loss: 0.6006 - accuracy: 0.8197\n",
            "Epoch 43/100\n",
            "1563/1563 [==============================] - 7s 4ms/step - loss: 0.5632 - accuracy: 0.8293\n",
            "Epoch 44/100\n",
            "1563/1563 [==============================] - 6s 4ms/step - loss: 0.5988 - accuracy: 0.8219\n",
            "Epoch 45/100\n",
            "1563/1563 [==============================] - 7s 4ms/step - loss: 0.5770 - accuracy: 0.8251\n",
            "Epoch 46/100\n",
            "1563/1563 [==============================] - 6s 4ms/step - loss: 0.5665 - accuracy: 0.8308\n",
            "Epoch 47/100\n",
            "1563/1563 [==============================] - 7s 4ms/step - loss: 0.5591 - accuracy: 0.8299\n",
            "Epoch 48/100\n",
            "1563/1563 [==============================] - 6s 4ms/step - loss: 0.5836 - accuracy: 0.8255\n",
            "Epoch 49/100\n",
            "1563/1563 [==============================] - 7s 4ms/step - loss: 0.5801 - accuracy: 0.8250\n",
            "Epoch 50/100\n",
            "1563/1563 [==============================] - 6s 4ms/step - loss: 0.5661 - accuracy: 0.8294\n",
            "Epoch 51/100\n",
            "1563/1563 [==============================] - 7s 4ms/step - loss: 0.5708 - accuracy: 0.8282\n",
            "Epoch 52/100\n",
            "1563/1563 [==============================] - 7s 4ms/step - loss: 0.5817 - accuracy: 0.8265\n",
            "Epoch 53/100\n",
            "1563/1563 [==============================] - 6s 4ms/step - loss: 0.5731 - accuracy: 0.8280\n",
            "Epoch 54/100\n",
            "1563/1563 [==============================] - 7s 4ms/step - loss: 0.5901 - accuracy: 0.8243\n",
            "Epoch 55/100\n",
            "1563/1563 [==============================] - 6s 4ms/step - loss: 0.5608 - accuracy: 0.8314\n",
            "Epoch 56/100\n",
            "1563/1563 [==============================] - 7s 4ms/step - loss: 0.5949 - accuracy: 0.8251\n",
            "Epoch 57/100\n",
            "1563/1563 [==============================] - 6s 4ms/step - loss: 0.5912 - accuracy: 0.8256\n",
            "Epoch 58/100\n",
            "1563/1563 [==============================] - 7s 4ms/step - loss: 0.5616 - accuracy: 0.8323\n",
            "Epoch 59/100\n",
            "1563/1563 [==============================] - 6s 4ms/step - loss: 0.5863 - accuracy: 0.8271\n",
            "Epoch 60/100\n",
            "1563/1563 [==============================] - 7s 4ms/step - loss: 0.5774 - accuracy: 0.8267\n",
            "Epoch 61/100\n",
            "1563/1563 [==============================] - 6s 4ms/step - loss: 0.5453 - accuracy: 0.8339\n",
            "Epoch 62/100\n",
            "1563/1563 [==============================] - 7s 4ms/step - loss: 0.6285 - accuracy: 0.8159\n",
            "Epoch 63/100\n",
            "1563/1563 [==============================] - 6s 4ms/step - loss: 0.5400 - accuracy: 0.8362\n",
            "Epoch 64/100\n",
            "1563/1563 [==============================] - 7s 4ms/step - loss: 0.5813 - accuracy: 0.8270\n",
            "Epoch 65/100\n",
            "1563/1563 [==============================] - 6s 4ms/step - loss: 0.5822 - accuracy: 0.8285\n",
            "Epoch 66/100\n",
            "1563/1563 [==============================] - 8s 5ms/step - loss: 0.5904 - accuracy: 0.8272\n",
            "Epoch 67/100\n",
            "1563/1563 [==============================] - 7s 4ms/step - loss: 0.5793 - accuracy: 0.8298\n",
            "Epoch 68/100\n",
            "1563/1563 [==============================] - 6s 4ms/step - loss: 0.5603 - accuracy: 0.8322\n",
            "Epoch 69/100\n",
            "1563/1563 [==============================] - 7s 4ms/step - loss: 0.5744 - accuracy: 0.8282\n",
            "Epoch 70/100\n",
            "1563/1563 [==============================] - 6s 4ms/step - loss: 0.5648 - accuracy: 0.8299\n",
            "Epoch 71/100\n",
            "1563/1563 [==============================] - 7s 4ms/step - loss: 0.5789 - accuracy: 0.8258\n",
            "Epoch 72/100\n",
            "1563/1563 [==============================] - 6s 4ms/step - loss: 0.5553 - accuracy: 0.8324\n",
            "Epoch 73/100\n",
            "1563/1563 [==============================] - 7s 4ms/step - loss: 0.5881 - accuracy: 0.8260\n",
            "Epoch 74/100\n",
            "1563/1563 [==============================] - 6s 4ms/step - loss: 0.5611 - accuracy: 0.8308\n",
            "Epoch 75/100\n",
            "1563/1563 [==============================] - 7s 4ms/step - loss: 0.5680 - accuracy: 0.8335\n",
            "Epoch 76/100\n",
            "1563/1563 [==============================] - 6s 4ms/step - loss: 0.5509 - accuracy: 0.8337\n",
            "Epoch 77/100\n",
            "1563/1563 [==============================] - 6s 4ms/step - loss: 0.5785 - accuracy: 0.8289\n",
            "Epoch 78/100\n",
            "1563/1563 [==============================] - 6s 4ms/step - loss: 0.5664 - accuracy: 0.8320\n",
            "Epoch 79/100\n",
            "1563/1563 [==============================] - 7s 4ms/step - loss: 0.5561 - accuracy: 0.8335\n",
            "Epoch 80/100\n",
            "1563/1563 [==============================] - 6s 4ms/step - loss: 0.5783 - accuracy: 0.8277\n",
            "Epoch 81/100\n",
            "1563/1563 [==============================] - 7s 4ms/step - loss: 0.5657 - accuracy: 0.8331\n",
            "Epoch 82/100\n",
            "1563/1563 [==============================] - 6s 4ms/step - loss: 0.5702 - accuracy: 0.8309\n",
            "Epoch 83/100\n",
            "1563/1563 [==============================] - 6s 4ms/step - loss: 0.5568 - accuracy: 0.8347\n",
            "Epoch 84/100\n",
            "1563/1563 [==============================] - 7s 4ms/step - loss: 0.5842 - accuracy: 0.8274\n",
            "Epoch 85/100\n",
            "1563/1563 [==============================] - 6s 4ms/step - loss: 0.5527 - accuracy: 0.8355\n",
            "Epoch 86/100\n",
            "1563/1563 [==============================] - 7s 4ms/step - loss: 0.5613 - accuracy: 0.8338\n",
            "Epoch 87/100\n",
            "1563/1563 [==============================] - 6s 4ms/step - loss: 0.5811 - accuracy: 0.8296\n",
            "Epoch 88/100\n",
            "1563/1563 [==============================] - 7s 4ms/step - loss: 0.5467 - accuracy: 0.8372\n",
            "Epoch 89/100\n",
            "1563/1563 [==============================] - 6s 4ms/step - loss: 0.5673 - accuracy: 0.8310\n",
            "Epoch 90/100\n",
            "1563/1563 [==============================] - 7s 4ms/step - loss: 0.5679 - accuracy: 0.8309\n",
            "Epoch 91/100\n",
            "1563/1563 [==============================] - 6s 4ms/step - loss: 0.5760 - accuracy: 0.8318\n",
            "Epoch 92/100\n",
            "1563/1563 [==============================] - 7s 4ms/step - loss: 0.5545 - accuracy: 0.8343\n",
            "Epoch 93/100\n",
            "1563/1563 [==============================] - 6s 4ms/step - loss: 0.5638 - accuracy: 0.8336\n",
            "Epoch 94/100\n",
            "1563/1563 [==============================] - 6s 4ms/step - loss: 0.5622 - accuracy: 0.8310\n",
            "Epoch 95/100\n",
            "1563/1563 [==============================] - 6s 4ms/step - loss: 0.5687 - accuracy: 0.8328\n",
            "Epoch 96/100\n",
            "1563/1563 [==============================] - 7s 4ms/step - loss: 0.5268 - accuracy: 0.8407\n",
            "Epoch 97/100\n",
            "1563/1563 [==============================] - 6s 4ms/step - loss: 0.5748 - accuracy: 0.8305\n",
            "Epoch 98/100\n",
            "1563/1563 [==============================] - 7s 4ms/step - loss: 0.5610 - accuracy: 0.8358\n",
            "Epoch 99/100\n",
            "1563/1563 [==============================] - 9s 6ms/step - loss: 0.5466 - accuracy: 0.8387\n",
            "Epoch 100/100\n",
            "1563/1563 [==============================] - 11s 7ms/step - loss: 0.5777 - accuracy: 0.8324\n"
          ]
        },
        {
          "output_type": "execute_result",
          "data": {
            "text/plain": [
              "<keras.src.callbacks.History at 0x792a1052dfc0>"
            ]
          },
          "metadata": {},
          "execution_count": 17
        }
      ]
    },
    {
      "cell_type": "code",
      "source": [
        "df=pd.DataFrame(model.history.history)\n",
        "df.plot(figsize=(10,8))"
      ],
      "metadata": {
        "colab": {
          "base_uri": "https://localhost:8080/",
          "height": 694
        },
        "id": "BjEKzwbmPpB6",
        "outputId": "e99fa03f-1274-4b84-caeb-8e657e2b6d00"
      },
      "execution_count": 18,
      "outputs": [
        {
          "output_type": "execute_result",
          "data": {
            "text/plain": [
              "<Axes: >"
            ]
          },
          "metadata": {},
          "execution_count": 18
        },
        {
          "output_type": "display_data",
          "data": {
            "text/plain": [
              "<Figure size 1000x800 with 1 Axes>"
            ],
            "image/png": "[encoded data removed]"
          },
          "metadata": {}
        }
      ]
    }
  ]
}